{
 "cells": [
  {
   "cell_type": "markdown",
   "metadata": {},
   "source": [
    "Write a Python Program(with class concepts) to find the area of the triangle using the below\n",
    "formula.\n",
    "area = (s*(s-a)*(s-b)*(s-c)) ** 0.5\n",
    "Function to take the length of the sides of triangle from user should be defined in the parent\n",
    "class and function to calculate the area should be defined in subclass."
   ]
  },
  {
   "cell_type": "code",
   "execution_count": 19,
   "metadata": {},
   "outputs": [],
   "source": [
    "class Triangle:\n",
    "    def __init__(self):\n",
    "        self.s1=0\n",
    "        self.s2=0\n",
    "        self.s3=0\n",
    "    def input_sides(self):\n",
    "        self.s1=input(\"Enter value for side a:\")\n",
    "        self.s2=input(\"Enter value for side b:\")\n",
    "        self.s3=input(\"Enter value for side c:\")\n",
    "    def display_sides(self):\n",
    "        print(\"Here is your triangle:\",\"\\na:\",self.s1,\"\\nb:\",self.s2,\"\\nc:\",self.s3)\n",
    "class Area_of_Triangle(Triangle):\n",
    "    def __init_(self):\n",
    "        Triangle.__init__(self)\n",
    "    def calculate_area(self):\n",
    "        a,b,c=float(self.s1),float(self.s2),float(self.s3)\n",
    "        s=a+b+c\n",
    "        area= (s*(s-a)*(s-b)*(s-c))**0.5\n",
    "        return area\n",
    "    "
   ]
  },
  {
   "cell_type": "code",
   "execution_count": 23,
   "metadata": {},
   "outputs": [
    {
     "name": "stdout",
     "output_type": "stream",
     "text": [
      "Enter value for side a:4\n",
      "Enter value for side b:5\n",
      "Enter value for side c:6\n",
      "Here is your triangle: \n",
      "a: 4 \n",
      "b: 5 \n",
      "c: 6\n",
      "Area of triangle is:  121.8605760695394\n"
     ]
    }
   ],
   "source": [
    "aot=Area_of_Triangle()\n",
    "aot.input_sides()\n",
    "aot.display_sides()\n",
    "print(\"Area of triangle is: \",aot.calculate_area())"
   ]
  },
  {
   "cell_type": "code",
   "execution_count": null,
   "metadata": {},
   "outputs": [],
   "source": []
  },
  {
   "cell_type": "code",
   "execution_count": null,
   "metadata": {},
   "outputs": [],
   "source": []
  }
 ],
 "metadata": {
  "kernelspec": {
   "display_name": "Python 3",
   "language": "python",
   "name": "python3"
  },
  "language_info": {
   "codemirror_mode": {
    "name": "ipython",
    "version": 3
   },
   "file_extension": ".py",
   "mimetype": "text/x-python",
   "name": "python",
   "nbconvert_exporter": "python",
   "pygments_lexer": "ipython3",
   "version": "3.6.4"
  }
 },
 "nbformat": 4,
 "nbformat_minor": 2
}
